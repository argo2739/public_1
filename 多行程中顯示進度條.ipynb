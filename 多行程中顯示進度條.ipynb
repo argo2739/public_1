{
 "cells": [
  {
   "cell_type": "code",
   "execution_count": 1,
   "id": "a89c0c29",
   "metadata": {},
   "outputs": [
    {
     "name": "stderr",
     "output_type": "stream",
     "text": [
      "WARNING: Skipping viztracer as it is not installed.\n"
     ]
    }
   ],
   "source": [
    "#https://stackoverflow.com/questions/41385708/multiprocessing-example-giving-attributeerror\n",
    "#https://clay-atlas.com/blog/2020/06/20/python-%E4%B8%AD%E9%80%B2%E7%A8%8B%E6%B1%A0-pool-%E7%9A%84%E4%BD%BF%E7%94%A8%E6%96%B9%E6%B3%95%E5%8F%8A%E9%80%B2%E5%BA%A6%E6%A2%9D%E9%A1%AF%E7%A4%BA/\n"
   ]
  },
  {
   "cell_type": "code",
   "execution_count": 10,
   "id": "385ece74",
   "metadata": {},
   "outputs": [],
   "source": [
    "import multiprocess as mp\n",
    "import tqdm\n",
    "def task(x):\n",
    "    def abc():\n",
    "        print (\"abc\")\n",
    "        return\n",
    "\n",
    "    abc\n",
    "    return x*x"
   ]
  },
  {
   "cell_type": "code",
   "execution_count": 11,
   "id": "b82372c1",
   "metadata": {},
   "outputs": [
    {
     "name": "stderr",
     "output_type": "stream",
     "text": [
      "100%|█████████████████████████████████████████████████████████████████████████████████| 10/10 [00:00<00:00, 105.54it/s]"
     ]
    },
    {
     "name": "stdout",
     "output_type": "stream",
     "text": [
      "[0, 1, 4, 9, 16, 25, 36, 49, 64, 81]\n"
     ]
    },
    {
     "name": "stderr",
     "output_type": "stream",
     "text": [
      "\n"
     ]
    }
   ],
   "source": [
    "pool = mp.Pool(processes=3)\n",
    "inputs = range(10)\n",
    "\n",
    "results = []\n",
    "for result in tqdm.tqdm(pool.imap_unordered(task, inputs), total=len(inputs)):\n",
    "    results.append(result)\n",
    "\n",
    "print(results)"
   ]
  }
 ],
 "metadata": {
  "kernelspec": {
   "display_name": "Python 3 (ipykernel)",
   "language": "python",
   "name": "python3"
  },
  "language_info": {
   "codemirror_mode": {
    "name": "ipython",
    "version": 3
   },
   "file_extension": ".py",
   "mimetype": "text/x-python",
   "name": "python",
   "nbconvert_exporter": "python",
   "pygments_lexer": "ipython3",
   "version": "3.9.12"
  }
 },
 "nbformat": 4,
 "nbformat_minor": 5
}
